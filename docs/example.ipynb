{
    "cells": [
        {
            "attachments": {},
            "cell_type": "markdown",
            "metadata": {},
            "source": [
                "# Overview of `pywddff`"
            ]
        },
        {
            "attachments": {},
            "cell_type": "markdown",
            "metadata": {},
            "source": [
                "`pywddff` aims to make wavelet feature engineering for machine learning based forecasting with tabular time series data easier for practitioners and researchers. By \"wavelet feature engineering\", I mean \"using wavelet and scaling coefficients from maximal overlap or A Trous wavelet transform as additional features\".\n",
                "\n",
                "The implementation of maximal overlap discrete wavelet transform (MODWT) and A Trous wavelet transform (ATWT) follow from \"Wavelet Methods for Time Series Analysis\" by Donald Percival and Andrew Walden."
            ]
        },
        {
            "attachments": {},
            "cell_type": "markdown",
            "metadata": {},
            "source": [
                "## Loading a subset of CAMELS"
            ]
        },
        {
            "attachments": {},
            "cell_type": "markdown",
            "metadata": {},
            "source": [
                "[Catchment Attributes and Meteorology for Large-sample Studies (CAMELS)](https://ral.ucar.edu/solutions/products/camels) is a dataset containing streamflow series and catchment attributes for over 600 basins in the United States. The data for most basins lie between 1981 and 2014.\n",
                "\n",
                "Here, I will load a subset of the CAMELS data set."
            ]
        },
        {
            "cell_type": "code",
            "execution_count": 4,
            "metadata": {},
            "outputs": [
                {
                    "name": "stdout",
                    "output_type": "stream",
                    "text": [
                        "There are 35 basins included in this package.\n"
                    ]
                }
            ],
            "source": [
                "from pywddff.datasets import get_camels_subset\n",
                "\n",
                "camels_subset = get_camels_subset()\n",
                "camels_ids = list(camels_subset.keys())\n",
                "print(f'There are {len(camels_ids)} basins included in this package.')"
            ]
        },
        {
            "attachments": {},
            "cell_type": "markdown",
            "metadata": {},
            "source": [
                "Here's an example data set in CAMELS:"
            ]
        },
        {
            "cell_type": "code",
            "execution_count": 8,
            "metadata": {},
            "outputs": [
                {
                    "data": {
                        "text/html": [
                            "<div>\n",
                            "<style scoped>\n",
                            "    .dataframe tbody tr th:only-of-type {\n",
                            "        vertical-align: middle;\n",
                            "    }\n",
                            "\n",
                            "    .dataframe tbody tr th {\n",
                            "        vertical-align: top;\n",
                            "    }\n",
                            "\n",
                            "    .dataframe thead th {\n",
                            "        text-align: right;\n",
                            "    }\n",
                            "</style>\n",
                            "<table border=\"1\" class=\"dataframe\">\n",
                            "  <thead>\n",
                            "    <tr style=\"text-align: right;\">\n",
                            "      <th></th>\n",
                            "      <th>Q(ft3/s)</th>\n",
                            "      <th>dayl(s)</th>\n",
                            "      <th>prcp(mm/day)</th>\n",
                            "      <th>srad(W/m2)</th>\n",
                            "      <th>tmax(C)</th>\n",
                            "      <th>tmin(C)</th>\n",
                            "      <th>vp(Pa)</th>\n",
                            "    </tr>\n",
                            "  </thead>\n",
                            "  <tbody>\n",
                            "    <tr>\n",
                            "      <th>0</th>\n",
                            "      <td>18.00</td>\n",
                            "      <td>34905.61</td>\n",
                            "      <td>0.00</td>\n",
                            "      <td>175.32</td>\n",
                            "      <td>9.00</td>\n",
                            "      <td>2.46</td>\n",
                            "      <td>720.00</td>\n",
                            "    </tr>\n",
                            "    <tr>\n",
                            "      <th>1</th>\n",
                            "      <td>15.00</td>\n",
                            "      <td>34905.61</td>\n",
                            "      <td>0.00</td>\n",
                            "      <td>289.07</td>\n",
                            "      <td>11.50</td>\n",
                            "      <td>-2.51</td>\n",
                            "      <td>519.54</td>\n",
                            "    </tr>\n",
                            "    <tr>\n",
                            "      <th>2</th>\n",
                            "      <td>13.00</td>\n",
                            "      <td>34905.61</td>\n",
                            "      <td>0.00</td>\n",
                            "      <td>297.24</td>\n",
                            "      <td>11.99</td>\n",
                            "      <td>-3.00</td>\n",
                            "      <td>480.00</td>\n",
                            "    </tr>\n",
                            "    <tr>\n",
                            "      <th>3</th>\n",
                            "      <td>13.00</td>\n",
                            "      <td>34905.61</td>\n",
                            "      <td>2.26</td>\n",
                            "      <td>190.21</td>\n",
                            "      <td>8.55</td>\n",
                            "      <td>-0.50</td>\n",
                            "      <td>600.00</td>\n",
                            "    </tr>\n",
                            "    <tr>\n",
                            "      <th>4</th>\n",
                            "      <td>33.00</td>\n",
                            "      <td>34905.61</td>\n",
                            "      <td>5.49</td>\n",
                            "      <td>151.74</td>\n",
                            "      <td>5.50</td>\n",
                            "      <td>-2.00</td>\n",
                            "      <td>520.00</td>\n",
                            "    </tr>\n",
                            "    <tr>\n",
                            "      <th>...</th>\n",
                            "      <td>...</td>\n",
                            "      <td>...</td>\n",
                            "      <td>...</td>\n",
                            "      <td>...</td>\n",
                            "      <td>...</td>\n",
                            "      <td>...</td>\n",
                            "      <td>...</td>\n",
                            "    </tr>\n",
                            "    <tr>\n",
                            "      <th>11226</th>\n",
                            "      <td>0.02</td>\n",
                            "      <td>42508.80</td>\n",
                            "      <td>0.00</td>\n",
                            "      <td>302.88</td>\n",
                            "      <td>29.16</td>\n",
                            "      <td>18.00</td>\n",
                            "      <td>2080.05</td>\n",
                            "    </tr>\n",
                            "    <tr>\n",
                            "      <th>11227</th>\n",
                            "      <td>0.47</td>\n",
                            "      <td>42163.21</td>\n",
                            "      <td>26.81</td>\n",
                            "      <td>120.50</td>\n",
                            "      <td>22.49</td>\n",
                            "      <td>17.21</td>\n",
                            "      <td>1953.55</td>\n",
                            "    </tr>\n",
                            "    <tr>\n",
                            "      <th>11228</th>\n",
                            "      <td>0.50</td>\n",
                            "      <td>42163.21</td>\n",
                            "      <td>14.10</td>\n",
                            "      <td>207.48</td>\n",
                            "      <td>23.97</td>\n",
                            "      <td>14.50</td>\n",
                            "      <td>1640.00</td>\n",
                            "    </tr>\n",
                            "    <tr>\n",
                            "      <th>11229</th>\n",
                            "      <td>0.69</td>\n",
                            "      <td>42163.21</td>\n",
                            "      <td>12.19</td>\n",
                            "      <td>161.60</td>\n",
                            "      <td>22.21</td>\n",
                            "      <td>15.13</td>\n",
                            "      <td>1730.51</td>\n",
                            "    </tr>\n",
                            "    <tr>\n",
                            "      <th>11230</th>\n",
                            "      <td>15.00</td>\n",
                            "      <td>41817.61</td>\n",
                            "      <td>40.76</td>\n",
                            "      <td>164.12</td>\n",
                            "      <td>23.21</td>\n",
                            "      <td>16.00</td>\n",
                            "      <td>1800.00</td>\n",
                            "    </tr>\n",
                            "  </tbody>\n",
                            "</table>\n",
                            "<p>11231 rows × 7 columns</p>\n",
                            "</div>"
                        ],
                        "text/plain": [
                            "       Q(ft3/s)   dayl(s)  prcp(mm/day)  srad(W/m2)  tmax(C)  tmin(C)   vp(Pa)\n",
                            "0         18.00  34905.61          0.00      175.32     9.00     2.46   720.00\n",
                            "1         15.00  34905.61          0.00      289.07    11.50    -2.51   519.54\n",
                            "2         13.00  34905.61          0.00      297.24    11.99    -3.00   480.00\n",
                            "3         13.00  34905.61          2.26      190.21     8.55    -0.50   600.00\n",
                            "4         33.00  34905.61          5.49      151.74     5.50    -2.00   520.00\n",
                            "...         ...       ...           ...         ...      ...      ...      ...\n",
                            "11226      0.02  42508.80          0.00      302.88    29.16    18.00  2080.05\n",
                            "11227      0.47  42163.21         26.81      120.50    22.49    17.21  1953.55\n",
                            "11228      0.50  42163.21         14.10      207.48    23.97    14.50  1640.00\n",
                            "11229      0.69  42163.21         12.19      161.60    22.21    15.13  1730.51\n",
                            "11230     15.00  41817.61         40.76      164.12    23.21    16.00  1800.00\n",
                            "\n",
                            "[11231 rows x 7 columns]"
                        ]
                    },
                    "execution_count": 8,
                    "metadata": {},
                    "output_type": "execute_result"
                }
            ],
            "source": [
                "df = camels_subset[camels_ids[0]]\n",
                "df"
            ]
        },
        {
            "attachments": {},
            "cell_type": "markdown",
            "metadata": {},
            "source": [
                "## `pywddff.filters`"
            ]
        },
        {
            "attachments": {},
            "cell_type": "markdown",
            "metadata": {},
            "source": [
                "The `filters` submodule contains 128 (decomposition level 1) orthogonal scaling and wavelet filters. There's also functionality for level j equivalent scaling and wavelet filters, but I will refer you to the documentation for those (see `equiv_scaling_filter` and `equiv_wavelet_filter`)."
            ]
        },
        {
            "cell_type": "code",
            "execution_count": 6,
            "metadata": {},
            "outputs": [
                {
                    "data": {
                        "text/plain": [
                            "array([-0.07576571, -0.02963553,  0.49761867,  0.80373875,  0.2978578 ,\n",
                            "       -0.09921954, -0.01260397,  0.0322231 ])"
                        ]
                    },
                    "execution_count": 6,
                    "metadata": {},
                    "output_type": "execute_result"
                }
            ],
            "source": [
                "from pywddff.filters import scaling_filter, wavelet_filter\n",
                "\n",
                "scaling_filter('la8')"
            ]
        },
        {
            "cell_type": "code",
            "execution_count": 7,
            "metadata": {},
            "outputs": [
                {
                    "data": {
                        "text/plain": [
                            "array([ 0.0322231 ,  0.01260397, -0.09921954, -0.2978578 ,  0.80373875,\n",
                            "       -0.49761867, -0.02963553,  0.07576571])"
                        ]
                    },
                    "execution_count": 7,
                    "metadata": {},
                    "output_type": "execute_result"
                }
            ],
            "source": [
                "wavelet_filter('la8')"
            ]
        },
        {
            "attachments": {},
            "cell_type": "markdown",
            "metadata": {},
            "source": [
                "## `pywddff.pywddff`"
            ]
        },
        {
            "attachments": {},
            "cell_type": "markdown",
            "metadata": {},
            "source": [
                "`multi_stationary_dwt` is the main workhorse function of `pywddff`. As the name suggests, this function performs MODWT or A Trous decomposition on every input feature of a user provided numpy array or pandas data frame containing input features. The argument `approach` allows the user to specify whether they want to \n",
                "\n",
                "1. keep both the original input features and the newly created wavelet and scaling coefficient features (`approach = \"single hybrid\"`)\n",
                "2. only keep the newly created wavelet and scaling coefficients and discard the original input features (`approach = \"single\"`)\n",
                "\n",
                "Let's see the function in action."
            ]
        },
        {
            "cell_type": "code",
            "execution_count": 26,
            "metadata": {},
            "outputs": [
                {
                    "data": {
                        "text/plain": [
                            "['dayl(s)',\n",
                            " 'prcp(mm/day)',\n",
                            " 'srad(W/m2)',\n",
                            " 'tmax(C)',\n",
                            " 'tmin(C)',\n",
                            " 'vp(Pa)',\n",
                            " 'dayl(s)_W1',\n",
                            " 'dayl(s)_W2',\n",
                            " 'dayl(s)_V2',\n",
                            " 'prcp(mm/day)_W1',\n",
                            " 'prcp(mm/day)_W2',\n",
                            " 'prcp(mm/day)_V2',\n",
                            " 'srad(W/m2)_W1',\n",
                            " 'srad(W/m2)_W2',\n",
                            " 'srad(W/m2)_V2',\n",
                            " 'tmax(C)_W1',\n",
                            " 'tmax(C)_W2',\n",
                            " 'tmax(C)_V2',\n",
                            " 'tmin(C)_W1',\n",
                            " 'tmin(C)_W2',\n",
                            " 'tmin(C)_V2',\n",
                            " 'vp(Pa)_W1',\n",
                            " 'vp(Pa)_W2',\n",
                            " 'vp(Pa)_V2']"
                        ]
                    },
                    "execution_count": 26,
                    "metadata": {},
                    "output_type": "execute_result"
                }
            ],
            "source": [
                "from pywddff.pywddff import multi_stationary_dwt\n",
                "\n",
                "X = df.iloc[:, 1:]\n",
                "y = df.iloc[:, 0]\n",
                "\n",
                "X_new, y_new = multi_stationary_dwt(X, y, \n",
                "                                    transform = 'modwt', \n",
                "                                    filter = 'la8', \n",
                "                                    J = 2, \n",
                "                                    remove_bc = True, \n",
                "                                    approach = \"single hybrid\")\n",
                "list(X_new)"
            ]
        },
        {
            "attachments": {},
            "cell_type": "markdown",
            "metadata": {},
            "source": [
                "If you have a 1D numpy array (usually corresponding to a single time series), you can use either `modwt` or `atrousdwt` to decompose the time series into wavelet and scaling coefficients. See the documentation for these two functions."
            ]
        },
        {
            "attachments": {},
            "cell_type": "markdown",
            "metadata": {},
            "source": [
                "## `pywddff.utils`"
            ]
        },
        {
            "attachments": {},
            "cell_type": "markdown",
            "metadata": {},
            "source": [
                "A candy jar of different helper functions that were used to develop the other submodules. I decided to collect these functions into the `utils` module for anyone who might find them useful.\n",
                "\n",
                "Below, I show a few functions that I suspect will be of most use to most people."
            ]
        },
        {
            "attachments": {},
            "cell_type": "markdown",
            "metadata": {},
            "source": [
                "### Data preparation for forecasting"
            ]
        },
        {
            "attachments": {},
            "cell_type": "markdown",
            "metadata": {},
            "source": [
                "`prep_forecast_data` prepares the target variable for forecasting."
            ]
        },
        {
            "cell_type": "code",
            "execution_count": 27,
            "metadata": {},
            "outputs": [
                {
                    "data": {
                        "text/plain": [
                            "((11203, 24), (11203,))"
                        ]
                    },
                    "execution_count": 27,
                    "metadata": {},
                    "output_type": "execute_result"
                }
            ],
            "source": [
                "from pywddff.utils import prep_forecast_data\n",
                "\n",
                "h = 7 # forecast horizon (7 days ahead in this case)\n",
                "\n",
                "X_new, y_new = prep_forecast_data(X_new, y_new, h = h)\n",
                "X_new.shape, y_new.shape"
            ]
        },
        {
            "attachments": {},
            "cell_type": "markdown",
            "metadata": {},
            "source": [
                "### Add lagged features"
            ]
        },
        {
            "cell_type": "code",
            "execution_count": 28,
            "metadata": {},
            "outputs": [
                {
                    "data": {
                        "text/plain": [
                            "((11202, 48), (11202,))"
                        ]
                    },
                    "execution_count": 28,
                    "metadata": {},
                    "output_type": "execute_result"
                }
            ],
            "source": [
                "from pywddff.utils import add_lagged_variables\n",
                "\n",
                "X_new, y_new = add_lagged_variables(X_new, y_new, n_lags = 1)\n",
                "X_new.shape, y_new.shape"
            ]
        },
        {
            "attachments": {},
            "cell_type": "markdown",
            "metadata": {},
            "source": [
                "### Splitting data"
            ]
        },
        {
            "attachments": {},
            "cell_type": "markdown",
            "metadata": {},
            "source": [
                "`X` and `y` must be numpy arrays! Furthermore, make sure `y` is a 1D numpy array (i.e., `len(y.shape) == 1`)."
            ]
        },
        {
            "cell_type": "code",
            "execution_count": 29,
            "metadata": {},
            "outputs": [
                {
                    "data": {
                        "text/plain": [
                            "((10837, 48), (365, 48), (10837,), (365,))"
                        ]
                    },
                    "execution_count": 29,
                    "metadata": {},
                    "output_type": "execute_result"
                }
            ],
            "source": [
                "from pywddff.utils import absolute_split_2, absolute_split_3\n",
                "\n",
                "# I love the .to_numpy() method\n",
                "X_train, X_test, y_train, y_test = absolute_split_2(X_new.to_numpy(), y_new.to_numpy(), ntest = 365)\n",
                "X_train.shape, X_test.shape, y_train.shape, y_test.shape"
            ]
        },
        {
            "cell_type": "code",
            "execution_count": 30,
            "metadata": {},
            "outputs": [
                {
                    "data": {
                        "text/plain": [
                            "((10472, 48), (365, 48), (365, 48), (10472,), (365,), (365,))"
                        ]
                    },
                    "execution_count": 30,
                    "metadata": {},
                    "output_type": "execute_result"
                }
            ],
            "source": [
                "X_train, X_val, X_test, y_train, y_val, y_test = absolute_split_3(X_new.to_numpy(), \n",
                "                                                                  y_new.to_numpy(), \n",
                "                                                                  nval = 365, \n",
                "                                                                  ntest = 365)\n",
                "X_train.shape, X_val.shape, X_test.shape, y_train.shape, y_val.shape, y_test.shape"
            ]
        },
        {
            "attachments": {},
            "cell_type": "markdown",
            "metadata": {},
            "source": [
                "The observant of you will ask \"why did you perform MODWT feature engineering prior to splitting the dataset?\" This is totally ok, and you don't have to worry about look ahead bias if you're doing time series forecasting. For a deep dive, see the paper [Addressing the incorrect usage of wavelet-based hydrological and water resources forecasting models for real-world applications with best practices and a new forecasting framework](https://www.sciencedirect.com/science/article/abs/pii/S0022169418303317) by John Quilty and Jan Adamowski."
            ]
        }
    ],
    "metadata": {
        "kernelspec": {
            "display_name": "Python 3",
            "language": "python",
            "name": "python3"
        },
        "language_info": {
            "codemirror_mode": {
                "name": "ipython",
                "version": 3
            },
            "file_extension": ".py",
            "mimetype": "text/x-python",
            "name": "python",
            "nbconvert_exporter": "python",
            "pygments_lexer": "ipython3",
            "version": "3.10.11"
        }
    },
    "nbformat": 4,
    "nbformat_minor": 4
}
